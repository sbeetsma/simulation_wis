{
 "cells": [
  {
   "cell_type": "markdown",
   "id": "00c9dc5e",
   "metadata": {},
   "source": [
    "**Naam** Sjoerd Beetsma<br>\n",
    "**Klas:** V2A<br>\n",
    "**Studentnummer:** 6189293"
   ]
  },
  {
   "cell_type": "code",
   "execution_count": 1,
   "id": "22076d73",
   "metadata": {},
   "outputs": [],
   "source": [
    "%matplotlib widget\n",
    "import ipywidgets as widgets\n",
    "from ipywidgets import interactive\n",
    "import matplotlib.pyplot as plt\n",
    "import numpy as np\n",
    "from IPython.display import display\n",
    "%matplotlib inline"
   ]
  },
  {
   "cell_type": "code",
   "execution_count": 2,
   "id": "bd3a7e07",
   "metadata": {},
   "outputs": [],
   "source": [
    "def mixing_problem_euler(h=1/60, steps=60*300):\n",
    "    # initial values:\n",
    "    x  = [0] # KG salt in tank B\n",
    "    xv = [100] # Volume water in tank A\n",
    "    y  = [20] # KG salt in tank B\n",
    "    yv = [100] # Volume water in tank B\n",
    "    t  = [0] # time\n",
    "\n",
    "            # L/min from -> to\n",
    "    o_a = 6 # outside -> tank A\n",
    "    a_b = 3 # tank A  -> tank B\n",
    "    a_o = 4 # tank A  -> outside\n",
    "    b_a = 1 # tank B  -> tank A\n",
    "    b_o = 2 # tank B  -> outside\n",
    "\n",
    "    for step in range(steps):\n",
    "        c_a = x[-1] / xv[-1] # current concentration salt in tank A\n",
    "        c_b = y[-1] / yv[-1] # current concentration salt in tank B\n",
    "        \n",
    "        # Salt in A - Salt out A = rate of change of salt in kg/min\n",
    "        roc_x = (( o_a * 0.2 ) + ( b_a * c_b )) - (( a_o * c_a ) + ( a_b * c_a ))\n",
    "        # Salt in B - Salt out B = rate of change of salt in kg/min\n",
    "        roc_y = ( a_b * c_a ) - (( b_o * c_b ) + ( b_a * c_b ))\n",
    "        \n",
    "        # Salt in a tank is current salt in tank + (salt going in - salt going out) * h\n",
    "        x.append( x[-1] + roc_x * h ) # update salt tank A\n",
    "        xv.append( xv[-1] + ( o_a + b_a - a_b - a_o) * h ) # update water volume tank A\n",
    "        y.append( y[-1] + roc_y * h ) # update salt tank B\n",
    "        yv.append( yv[-1] + ( a_b - b_a - b_o ) * h ) # update water volume tank B\n",
    "        t.append( t[-1] + h ) # update time\n",
    "        \n",
    "    return t,x,xv,y,yv"
   ]
  },
  {
   "cell_type": "code",
   "execution_count": 3,
   "id": "cb496626",
   "metadata": {},
   "outputs": [],
   "source": [
    "def mixing_problem_heun(h=1/60, steps=60*300):\n",
    "    # initial values:\n",
    "    x  = [0] # KG salt in tank B\n",
    "    xv = [100] # Volume water in tank A\n",
    "    y  = [20] # KG salt in tank B\n",
    "    yv = [100] # Volume water in tank B\n",
    "    t  = [0] # Time\n",
    "\n",
    "            # L/min from -> to\n",
    "    o_a = 6 # outside -> tank A\n",
    "    a_b = 3 # tank A  -> tank B\n",
    "    a_o = 4 # tank A  -> outside\n",
    "    b_a = 1 # tank B  -> tank A\n",
    "    b_o = 2 # tank B  -> outside\n",
    "\n",
    "    for step in range(steps):\n",
    "        c_a = x[-1] / xv[-1] # current concentration salt in tank A\n",
    "        c_b = y[-1] / yv[-1] # current concentration salt in tank B\n",
    "        \n",
    "        roc_x_euler = (( o_a * 0.2 ) + ( b_a * c_b )) - ((a_o + a_b) * c_a)\n",
    "        x_euler = x[-1] + h * roc_x_euler\n",
    "        \n",
    "        roc_y_euler = ( a_b * c_a ) - ((b_o + b_a) * c_b)\n",
    "        y_euler = y[-1] + h * roc_y_euler\n",
    "        \n",
    "        # calculate concentrations according to what the next step would be from Euler's method.\n",
    "        c_a_euler = x_euler / xv[-1]\n",
    "        c_b_euler = y_euler / yv[-1]\n",
    "        # recalculate rate of change with the concentrations obtained from Euler\n",
    "        # and take the average from both rates of change => rate of change according to Heun's method.\n",
    "        x_heun = x[-1] + h * .5 * ((((o_a * 0.2) + (b_a * c_b_euler)) - ((a_o + a_b) * c_a_euler)) + roc_x_euler)\n",
    "        y_heun = y[-1] + h * .5 * (((a_b * c_a_euler) - ((b_o + b_a) * c_b_euler)) + roc_y_euler)\n",
    "\n",
    "        x.append( x_heun ) # update salt tank A\n",
    "        xv.append( xv[-1] + h * ( o_a + b_a - a_b - a_o)) # update water volume tank A\n",
    "        y.append( y_heun ) # update salt tank B\n",
    "        yv.append( yv[-1] + h * ( a_b - b_a - b_o )) # update water volume tank B\n",
    "        t.append( t[-1] + h ) # update time\n",
    "\n",
    "    return t,x,xv,y,yv"
   ]
  },
  {
   "cell_type": "code",
   "execution_count": 4,
   "id": "c1d61c07",
   "metadata": {
    "scrolled": true
   },
   "outputs": [],
   "source": [
    "def plotter(step_size, minutes,method):\n",
    "    \"\"\"\n",
    "    Function to interactively plot the approximation of the Euler method and/or Heun method.\n",
    "    Args:\n",
    "        step_size: change in time per step, can be chosen from 1/60 to 15 with steps of 1/60.\n",
    "        minutes: numbers to approximates: (minutes/step_size) = number of steps.\n",
    "        method: method to approximate the solution with either Euler, Heun or Both.\n",
    "    \"\"\" \n",
    "    if method == 'Forward Euler' or method == 'Both':\n",
    "        # plot solution according to the forward euler method\n",
    "        t,x,xv,y,yv = mixing_problem_euler(h=step_size, steps = int(minutes/step_size))\n",
    "        plt.plot(t,np.array(x)/np.array(xv), label='tank A Euler', c='blue')\n",
    "        plt.plot(t,np.array(y)/np.array(yv), label='tank B Euler', c='magenta')\n",
    "    \n",
    "    if method == 'Heun' or method == 'Both':\n",
    "        # plot solution according to heun's method\n",
    "        t,x,xv,y,yv = mixing_problem_heun(h=step_size, steps = int(minutes/step_size))\n",
    "        plt.plot(t,np.array(x)/np.array(xv), label='tank A Heun', c='red')\n",
    "        plt.plot(t,np.array(y)/np.array(yv), label='tank B Heun', c='black')\n",
    "    \n",
    "    # set title and axes labels\n",
    "    plt.title(f'Change of salt over time with a stepsize of {round(step_size,2)} minutes')\n",
    "    plt.xlabel('Time in minutes')\n",
    "    plt.ylabel('Salt concentration kg/l')\n",
    "    # set a legend at the right lower corner\n",
    "    plt.legend(loc=0)\n",
    "    plt.show()\n",
    "\n",
    "interactive_plot = interactive(\n",
    "                                plotter,step_size=widgets.FloatSlider(min=1/60, max=15, value=1/60, step=0.01, description='step size'),\n",
    "                                minutes =widgets.IntSlider(min=1, max=360, value=240, step=1),\n",
    "                                method = widgets.Dropdown(options=['Forward Euler', 'Heun', 'Both'],\n",
    "                                                                 value='Both',description='Solver')\n",
    "                              )"
   ]
  },
  {
   "cell_type": "code",
   "execution_count": 5,
   "id": "cbbf4408",
   "metadata": {
    "scrolled": false
   },
   "outputs": [
    {
     "data": {
      "application/vnd.jupyter.widget-view+json": {
       "model_id": "8b5c18161b684f03aff22f83a1f810c7",
       "version_major": 2,
       "version_minor": 0
      },
      "text/plain": [
       "interactive(children=(FloatSlider(value=0.016666666666666666, description='step size', max=15.0, min=0.0166666…"
      ]
     },
     "metadata": {},
     "output_type": "display_data"
    }
   ],
   "source": [
    "interactive_plot"
   ]
  }
 ],
 "metadata": {
  "kernelspec": {
   "display_name": "Python 3",
   "language": "python",
   "name": "python3"
  },
  "language_info": {
   "codemirror_mode": {
    "name": "ipython",
    "version": 3
   },
   "file_extension": ".py",
   "mimetype": "text/x-python",
   "name": "python",
   "nbconvert_exporter": "python",
   "pygments_lexer": "ipython3",
   "version": "3.9.0"
  }
 },
 "nbformat": 4,
 "nbformat_minor": 5
}
